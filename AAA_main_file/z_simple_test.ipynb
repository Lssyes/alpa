{
 "cells": [
  {
   "cell_type": "code",
   "execution_count": 1,
   "metadata": {},
   "outputs": [],
   "source": [
    "import jax.numpy as jnp\n",
    "from jax import jit\n",
    "\n"
   ]
  },
  {
   "cell_type": "code",
   "execution_count": 2,
   "metadata": {},
   "outputs": [
    {
     "ename": "TypeError",
     "evalue": "Shapes must be 1D sequences of concrete values of integer type, got [Traced<ShapedArray(int32[])>with<DynamicJaxprTrace(level=0/1)>].\nIf using `jit`, try using `static_argnums` or applying `jit` to smaller subfunctions.",
     "output_type": "error",
     "traceback": [
      "\u001b[0;31m---------------------------------------------------------------------------\u001b[0m",
      "\u001b[0;31mTypeError\u001b[0m                                 Traceback (most recent call last)",
      "\u001b[1;32m/workspacesa/alpa/AAA_main_file/z_simple_test.ipynb 单元格 2\u001b[0m line \u001b[0;36m6\n\u001b[1;32m      <a href='vscode-notebook-cell://attached-container%2B7b22636f6e7461696e65724e616d65223a222f616c70615f646f636b6572227d@ssh-remote%2Bip5/workspacesa/alpa/AAA_main_file/z_simple_test.ipynb#W1sdnNjb2RlLXJlbW90ZQ%3D%3D?line=2'>3</a>\u001b[0m   \u001b[39mreturn\u001b[39;00m x\u001b[39m.\u001b[39mreshape(jnp\u001b[39m.\u001b[39marray(x\u001b[39m.\u001b[39mshape)\u001b[39m.\u001b[39mprod())\n\u001b[1;32m      <a href='vscode-notebook-cell://attached-container%2B7b22636f6e7461696e65724e616d65223a222f616c70615f646f636b6572227d@ssh-remote%2Bip5/workspacesa/alpa/AAA_main_file/z_simple_test.ipynb#W1sdnNjb2RlLXJlbW90ZQ%3D%3D?line=4'>5</a>\u001b[0m x \u001b[39m=\u001b[39m jnp\u001b[39m.\u001b[39mones((\u001b[39m2\u001b[39m, \u001b[39m3\u001b[39m))\n\u001b[0;32m----> <a href='vscode-notebook-cell://attached-container%2B7b22636f6e7461696e65724e616d65223a222f616c70615f646f636b6572227d@ssh-remote%2Bip5/workspacesa/alpa/AAA_main_file/z_simple_test.ipynb#W1sdnNjb2RlLXJlbW90ZQ%3D%3D?line=5'>6</a>\u001b[0m f(x)\n",
      "    \u001b[0;31m[... skipping hidden 14 frame]\u001b[0m\n",
      "\u001b[1;32m/workspacesa/alpa/AAA_main_file/z_simple_test.ipynb 单元格 2\u001b[0m line \u001b[0;36m3\n\u001b[1;32m      <a href='vscode-notebook-cell://attached-container%2B7b22636f6e7461696e65724e616d65223a222f616c70615f646f636b6572227d@ssh-remote%2Bip5/workspacesa/alpa/AAA_main_file/z_simple_test.ipynb#W1sdnNjb2RlLXJlbW90ZQ%3D%3D?line=0'>1</a>\u001b[0m \u001b[39m@jit\u001b[39m\n\u001b[1;32m      <a href='vscode-notebook-cell://attached-container%2B7b22636f6e7461696e65724e616d65223a222f616c70615f646f636b6572227d@ssh-remote%2Bip5/workspacesa/alpa/AAA_main_file/z_simple_test.ipynb#W1sdnNjb2RlLXJlbW90ZQ%3D%3D?line=1'>2</a>\u001b[0m \u001b[39mdef\u001b[39;00m \u001b[39mf\u001b[39m(x):\n\u001b[0;32m----> <a href='vscode-notebook-cell://attached-container%2B7b22636f6e7461696e65724e616d65223a222f616c70615f646f636b6572227d@ssh-remote%2Bip5/workspacesa/alpa/AAA_main_file/z_simple_test.ipynb#W1sdnNjb2RlLXJlbW90ZQ%3D%3D?line=2'>3</a>\u001b[0m   \u001b[39mreturn\u001b[39;00m x\u001b[39m.\u001b[39;49mreshape(jnp\u001b[39m.\u001b[39;49marray(x\u001b[39m.\u001b[39;49mshape)\u001b[39m.\u001b[39;49mprod())\n",
      "File \u001b[0;32m/opt/conda/envs/alpa/lib/python3.8/site-packages/jax/_src/numpy/lax_numpy.py:767\u001b[0m, in \u001b[0;36m_reshape\u001b[0;34m(a, order, *args)\u001b[0m\n\u001b[1;32m    766\u001b[0m \u001b[39mdef\u001b[39;00m \u001b[39m_reshape\u001b[39m(a, \u001b[39m*\u001b[39margs, order\u001b[39m=\u001b[39m\u001b[39m\"\u001b[39m\u001b[39mC\u001b[39m\u001b[39m\"\u001b[39m):\n\u001b[0;32m--> 767\u001b[0m   newshape \u001b[39m=\u001b[39m _compute_newshape(a, args[\u001b[39m0\u001b[39;49m] \u001b[39mif\u001b[39;49;00m \u001b[39mlen\u001b[39;49m(args) \u001b[39m==\u001b[39;49m \u001b[39m1\u001b[39;49m \u001b[39melse\u001b[39;49;00m args)\n\u001b[1;32m    768\u001b[0m   \u001b[39mif\u001b[39;00m order \u001b[39m==\u001b[39m \u001b[39m\"\u001b[39m\u001b[39mC\u001b[39m\u001b[39m\"\u001b[39m:\n\u001b[1;32m    769\u001b[0m     \u001b[39mreturn\u001b[39;00m lax\u001b[39m.\u001b[39mreshape(a, newshape, \u001b[39mNone\u001b[39;00m)\n",
      "File \u001b[0;32m/opt/conda/envs/alpa/lib/python3.8/site-packages/jax/_src/numpy/lax_numpy.py:760\u001b[0m, in \u001b[0;36m_compute_newshape\u001b[0;34m(a, newshape)\u001b[0m\n\u001b[1;32m    758\u001b[0m \u001b[39mexcept\u001b[39;00m: iterable \u001b[39m=\u001b[39m \u001b[39mFalse\u001b[39;00m\n\u001b[1;32m    759\u001b[0m \u001b[39melse\u001b[39;00m: iterable \u001b[39m=\u001b[39m \u001b[39mTrue\u001b[39;00m\n\u001b[0;32m--> 760\u001b[0m newshape \u001b[39m=\u001b[39m core\u001b[39m.\u001b[39;49mcanonicalize_shape(newshape \u001b[39mif\u001b[39;49;00m iterable \u001b[39melse\u001b[39;49;00m [newshape])\n\u001b[1;32m    761\u001b[0m \u001b[39mreturn\u001b[39;00m \u001b[39mtuple\u001b[39m(\u001b[39m-\u001b[39m core\u001b[39m.\u001b[39mdivide_shape_sizes(np\u001b[39m.\u001b[39mshape(a), newshape)\n\u001b[1;32m    762\u001b[0m              \u001b[39mif\u001b[39;00m core\u001b[39m.\u001b[39msymbolic_equal_dim(d, \u001b[39m-\u001b[39m\u001b[39m1\u001b[39m) \u001b[39melse\u001b[39;00m d\n\u001b[1;32m    763\u001b[0m              \u001b[39mfor\u001b[39;00m d \u001b[39min\u001b[39;00m newshape)\n",
      "File \u001b[0;32m/opt/conda/envs/alpa/lib/python3.8/site-packages/jax/core.py:1821\u001b[0m, in \u001b[0;36mcanonicalize_shape\u001b[0;34m(shape, context)\u001b[0m\n\u001b[1;32m   1819\u001b[0m \u001b[39mexcept\u001b[39;00m \u001b[39mTypeError\u001b[39;00m:\n\u001b[1;32m   1820\u001b[0m   \u001b[39mpass\u001b[39;00m\n\u001b[0;32m-> 1821\u001b[0m \u001b[39mraise\u001b[39;00m _invalid_shape_error(shape, context)\n",
      "\u001b[0;31mTypeError\u001b[0m: Shapes must be 1D sequences of concrete values of integer type, got [Traced<ShapedArray(int32[])>with<DynamicJaxprTrace(level=0/1)>].\nIf using `jit`, try using `static_argnums` or applying `jit` to smaller subfunctions."
     ]
    },
    {
     "ename": "",
     "evalue": "",
     "output_type": "error",
     "traceback": [
      "\u001b[1;31m在当前单元格或上一个单元格中执行代码时 Kernel 崩溃。请查看单元格中的代码，以确定故障的可能原因。有关详细信息，请单击 <a href='https://aka.ms/vscodeJupyterKernelCrash'>此处</a>。有关更多详细信息，请查看 Jupyter <a href='command:jupyter.viewOutput'>log</a>。"
     ]
    }
   ],
   "source": [
    "@jit\n",
    "def f(x):\n",
    "  return x.reshape(jnp.array(x.shape).prod())\n",
    "\n",
    "x = jnp.ones((2, 3))\n",
    "f(x)"
   ]
  },
  {
   "cell_type": "code",
   "execution_count": null,
   "metadata": {},
   "outputs": [],
   "source": []
  }
 ],
 "metadata": {
  "kernelspec": {
   "display_name": "alpa",
   "language": "python",
   "name": "python3"
  },
  "language_info": {
   "codemirror_mode": {
    "name": "ipython",
    "version": 3
   },
   "file_extension": ".py",
   "mimetype": "text/x-python",
   "name": "python",
   "nbconvert_exporter": "python",
   "pygments_lexer": "ipython3",
   "version": "3.8.18"
  }
 },
 "nbformat": 4,
 "nbformat_minor": 2
}
